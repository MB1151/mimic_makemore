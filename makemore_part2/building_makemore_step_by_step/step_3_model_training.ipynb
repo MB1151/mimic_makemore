{
 "cells": [
  {
   "cell_type": "code",
   "execution_count": 140,
   "metadata": {},
   "outputs": [],
   "source": [
    "# In this notebook, you learn:\n",
    "# \n",
    "# 1) How to train the model using the names dataset to build a name generator?\n",
    "#\n",
    "# Resources:\n",
    "# 1) https://youtu.be/TCH_1BHY58I?si=m65oyEMLQ5OXBjjA\n",
    "#       -- Andrej Karpathy's video on makemore which is used to build the model.\n",
    "# 2) https://www.jmlr.org/papers/volume3/bengio03a/bengio03a.pdf\n",
    "#       -- Bengio et al. (2003) paper on A Neural Probabilistic Language Model\n",
    "#       -- This paper is the basis for the model we are building. Watch the video first and then read the paper.\n",
    "# 3) https://brandonmorris.dev/2018/06/24/mastering-the-learning-rate/\n",
    "#       -- Brandon Morris's blog on learning rates.\n",
    "#       -- We won't exactly be using the learning rate schedulers as mentioned in the blog, but it gives a good\n",
    "#          intuition on how to choose the learning rate in general. We will the general idea to perform experiments\n",
    "#          to find the best learning rate for our model.\n",
    "# 4) https://arxiv.org/pdf/1506.01186\n",
    "#       -- Leslie Smith's in which Learning Rate Range Test was first introduced.\n",
    "# 5) https://blog.dataiku.com/the-learning-rate-finder-technique-how-reliable-is-it\n",
    "#       -- Dataiku's blog on the reliability of the learning rate finder technique.\n",
    "#       -- Also, explans a few recommendations on finding optimal bounds for the learning rate."
   ]
  },
  {
   "cell_type": "code",
   "execution_count": 141,
   "metadata": {},
   "outputs": [],
   "source": [
    "import matplotlib.pyplot as plt\n",
    "import string\n",
    "import torch\n",
    "import torch.nn.functional as F\n",
    "\n",
    "from torch import Tensor\n",
    "from typing import Dict, List, Tuple"
   ]
  },
  {
   "cell_type": "code",
   "execution_count": 142,
   "metadata": {},
   "outputs": [],
   "source": [
    "# Number of characters used as input to the model.\n",
    "BLOCK_SIZE = 3\n",
    "# vocab size is the number of characters (26 alphabets + '.') represented as embeddings.\n",
    "VOCAB_SIZE = 27\n",
    "# Number of neurons in the hidden layer.\n",
    "NUM_HIDDEN_NEURONS = 100\n",
    "# Dimension of the embedding vectors representing the characters.\n",
    "EMBEDDING_SIZE = 2\n",
    "# Number of examples in a batch.\n",
    "BATCH_SIZE = 32\n",
    "# Path to the dataset used to train the model.\n",
    "CLEANED_DATASET_PATH = '../../makemore_part1/Data/names.txt'\n",
    "# Character to represent the end of a name.\n",
    "BOUND_CHARACTER = '.'"
   ]
  },
  {
   "cell_type": "code",
   "execution_count": 143,
   "metadata": {},
   "outputs": [],
   "source": [
    "SEED = 1234\n",
    "g = torch.Generator().manual_seed(SEED)"
   ]
  },
  {
   "cell_type": "code",
   "execution_count": 193,
   "metadata": {},
   "outputs": [],
   "source": [
    "def get_char_to_index_mapping() -> dict:\n",
    "    char_to_index = {char: index + 1 for index, char in enumerate(string.ascii_lowercase)}\n",
    "    char_to_index[BOUND_CHARACTER] = 0\n",
    "    return char_to_index\n",
    "\n",
    "def get_index_to_char_mapping() -> dict:\n",
    "    index_to_char = {index + 1: char for index, char in enumerate(string.ascii_lowercase)}\n",
    "    index_to_char[0] = BOUND_CHARACTER\n",
    "    return index_to_char"
   ]
  },
  {
   "cell_type": "code",
   "execution_count": 145,
   "metadata": {},
   "outputs": [],
   "source": [
    "# EVERYTHING IN THIS CELL HAS BEEN EXPLAINED IN THE PREVIOUS NOTEBOOKS. PLEASE REFER TO THEM FOR MORE DETAILS.\n",
    "def get_data_from_file() -> List[str]:\n",
    "    with open(CLEANED_DATASET_PATH, 'r') as f:\n",
    "        names = [name.strip() for name in f.readlines()]\n",
    "    return names\n",
    "\n",
    "\n",
    "def extract_inputs_and_targets(names: str) -> Tuple[List[List[int]], List[int]]:\n",
    "    char_to_index = get_char_to_index_mapping()\n",
    "    inputs = []\n",
    "    targets = []\n",
    "    for name in names:\n",
    "        bounded_name = name + BOUND_CHARACTER\n",
    "        current_block = [0] * BLOCK_SIZE\n",
    "        for current_char in bounded_name:\n",
    "            target_char_idx = char_to_index[current_char]\n",
    "            inputs.append(current_block)\n",
    "            targets.append(target_char_idx)\n",
    "            current_block = current_block[1:]\n",
    "            current_block.append(target_char_idx)\n",
    "    return inputs, targets\n",
    "\n",
    "\n",
    "def get_split_info(total_size: int) -> Tuple[int, int]:\n",
    "    \"\"\"Returns the indices to split the data into train, validation and test sets.\n",
    "\n",
    "    Args:\n",
    "        total_size (int): Total number of examples in the dataset.\n",
    "\n",
    "    Returns:\n",
    "        Tuple[int, int]: train_end, valid_end\n",
    "                         train_end -- All the data between 0 and train_end is used for training.\n",
    "                         valid_end -- All the data between train_end and valid_end is used for validation.\n",
    "    \"\"\"\n",
    "    train_end = int(0.8 * total_size)\n",
    "    valid_end = train_end + int(0.1 * total_size)\n",
    "    return train_end, valid_end\n",
    "\n",
    "\n",
    "def get_data_splits() -> Tuple[Tensor, Tensor, Tensor, Tensor, Tensor, Tensor]:\n",
    "    names = get_data_from_file()\n",
    "    inputs, targets = extract_inputs_and_targets(names)\n",
    "    train_end, valid_end = get_split_info(len(inputs))\n",
    "    \n",
    "    X_train, Y_train = inputs[:train_end], targets[:train_end]\n",
    "    X_train = torch.tensor(data=X_train, dtype=torch.int32)\n",
    "    Y_train = torch.tensor(data=Y_train, dtype=torch.int32)\n",
    "\n",
    "    X_valid, Y_valid = inputs[train_end:valid_end], targets[train_end:valid_end]\n",
    "    X_valid = torch.tensor(data=X_valid, dtype=torch.int32)\n",
    "    Y_valid = torch.tensor(data=Y_valid, dtype=torch.int32)\n",
    "    \n",
    "    X_test, Y_test = inputs[valid_end:], targets[valid_end:]\n",
    "    X_test = torch.tensor(data=X_test, dtype=torch.int32)\n",
    "    Y_test = torch.tensor(data=Y_test, dtype=torch.int32)\n",
    "\n",
    "    return X_train, Y_train, X_valid, Y_valid, X_test, Y_test"
   ]
  },
  {
   "cell_type": "code",
   "execution_count": null,
   "metadata": {},
   "outputs": [],
   "source": [
    "# EVERYTHING IN THIS CELL HAS BEEN EXPLAINED IN THE PREVIOUS NOTEBOOKS. PLEASE REFER TO THEM FOR MORE DETAILS.\n",
    "def create_model_parameters(embedding_size: int=EMBEDDING_SIZE, num_hidden_neurons: int=NUM_HIDDEN_NEURONS) -> Dict[str, Tensor]:\n",
    "    C = torch.randn(size=(VOCAB_SIZE, embedding_size), requires_grad=True, generator=g)\n",
    "    W1 = torch.randn(size=(BLOCK_SIZE * embedding_size, num_hidden_neurons), requires_grad=True, generator=g)\n",
    "    b1 = torch.randn(size=(num_hidden_neurons,), requires_grad=True, generator=g)\n",
    "    W2 = torch.randn(size=(num_hidden_neurons, VOCAB_SIZE), requires_grad=True, generator=g)\n",
    "    b2 = torch.randn(size=(VOCAB_SIZE,), requires_grad=True, generator=g)\n",
    "    return {'C': C, 'W1': W1, 'b1': b1, 'W2': W2, 'b2': b2}\n",
    "\n",
    "\n",
    "def update_model_parameters(parameters: Dict[str, Tensor], learning_rate: float):\n",
    "    for parameter in parameters.values():\n",
    "        parameter.data += -learning_rate * parameter.grad\n",
    "        parameter.grad = None\n",
    "\n",
    "\n",
    "def forward(parameters: Dict[str, Tensor], X: Tensor) -> Tensor:\n",
    "    # Retrieve the embeddings for the characters in the input.\n",
    "    X_inp = parameters['C'][X]\n",
    "    # -1 corresponds to the unknown batch size.\n",
    "    X_inp = X_inp.view(-1, BLOCK_SIZE * EMBEDDING_SIZE)\n",
    "    hidden_outputs = torch.tanh(X_inp @ parameters['W1'] + parameters['b1'])\n",
    "    logits = hidden_outputs @ parameters['W2'] + parameters['b2']\n",
    "    return logits\n",
    "\n",
    "\n",
    "def compute_loss(logits: Tensor, Y_target: Tensor) -> Tensor:\n",
    "    return F.cross_entropy(logits, Y_target.type(torch.long))\n",
    "\n",
    "\n",
    "def backward(loss: Tensor) -> None:\n",
    "    loss.backward()"
   ]
  },
  {
   "cell_type": "markdown",
   "metadata": {},
   "source": [
    "## Training Loop"
   ]
  },
  {
   "cell_type": "code",
   "execution_count": 147,
   "metadata": {},
   "outputs": [],
   "source": [
    "# Create the training, validation and test data splits.\n",
    "X_train, Y_train, X_valid, Y_valid, X_test, Y_test = get_data_splits()"
   ]
  },
  {
   "cell_type": "code",
   "execution_count": 148,
   "metadata": {},
   "outputs": [
    {
     "name": "stdout",
     "output_type": "stream",
     "text": [
      "Number of trainable parameters: 3481\n"
     ]
    }
   ],
   "source": [
    "# Create the model parameters for training.\n",
    "parameters = create_model_parameters()\n",
    "# Let's count the number of trainable parameters in the model.\n",
    "num_trainable_parameters = sum(parameter.numel() for parameter in parameters.values())\n",
    "print(f\"Number of trainable parameters: {num_trainable_parameters}\")"
   ]
  },
  {
   "cell_type": "code",
   "execution_count": 149,
   "metadata": {},
   "outputs": [],
   "source": [
    "def training_loop(X_train: Tensor, \n",
    "                  Y_train: Tensor, \n",
    "                  num_epochs: int, \n",
    "                  learning_rate: float, \n",
    "                  parameters: List[Tensor],\n",
    "                  log_frequency: int=1) -> Tensor:\n",
    "    \"\"\"Trains the model on the provided dataset for the specified number of epochs.\n",
    "\n",
    "    Args:\n",
    "        X_train (Tensor): Input data for training.\n",
    "        Y_train (Tensor): Target data for training.\n",
    "        num_epochs (int): Number of epochs to train the model for.\n",
    "        learning_rate (float): Learning rate used to update the model parameters.\n",
    "        parameters (List[Tensor]): Parameters of the model.\n",
    "        log_frequency (int): Frequency at which the loss is logged.\n",
    "    \"\"\"\n",
    "    loss = None\n",
    "    for epoch in range(num_epochs):\n",
    "        # Forward pass\n",
    "        logits = forward(parameters, X_train)\n",
    "        loss = compute_loss(logits, Y_train)\n",
    "        # Backward pass\n",
    "        backward(loss)\n",
    "        # Update the parameters\n",
    "        update_model_parameters(parameters, learning_rate)\n",
    "        # Log the loss every few iterations.\n",
    "        if (epoch + 1) % log_frequency == 0:\n",
    "            print(f\"epoch: {epoch}, learning_rate: {learning_rate} Loss: {loss.item()}\")\n",
    "    return loss"
   ]
  },
  {
   "cell_type": "code",
   "execution_count": 150,
   "metadata": {},
   "outputs": [
    {
     "name": "stdout",
     "output_type": "stream",
     "text": [
      "epoch: 0, learning_rate: 10 Loss: 17.356292724609375\n",
      "epoch: 1, learning_rate: 10 Loss: 117.19644927978516\n",
      "epoch: 2, learning_rate: 10 Loss: 177.57545471191406\n",
      "epoch: 3, learning_rate: 10 Loss: 143.7162628173828\n",
      "epoch: 4, learning_rate: 10 Loss: 75.18205261230469\n",
      "epoch: 5, learning_rate: 10 Loss: 61.3066520690918\n",
      "epoch: 6, learning_rate: 10 Loss: 61.786399841308594\n",
      "epoch: 7, learning_rate: 10 Loss: 55.72304916381836\n",
      "epoch: 8, learning_rate: 10 Loss: 51.55561828613281\n",
      "epoch: 9, learning_rate: 10 Loss: 56.11006546020508\n",
      "----------------------------------------------------------------------------------------------------\n",
      "epoch: 0, learning_rate: 1 Loss: 41.16244888305664\n",
      "epoch: 1, learning_rate: 1 Loss: 36.5606689453125\n",
      "epoch: 2, learning_rate: 1 Loss: 32.88502883911133\n",
      "epoch: 3, learning_rate: 1 Loss: 29.8353328704834\n",
      "epoch: 4, learning_rate: 1 Loss: 27.310256958007812\n",
      "epoch: 5, learning_rate: 1 Loss: 25.247243881225586\n",
      "epoch: 6, learning_rate: 1 Loss: 23.574100494384766\n",
      "epoch: 7, learning_rate: 1 Loss: 22.236736297607422\n",
      "epoch: 8, learning_rate: 1 Loss: 21.082279205322266\n",
      "epoch: 9, learning_rate: 1 Loss: 20.130571365356445\n",
      "----------------------------------------------------------------------------------------------------\n",
      "epoch: 0, learning_rate: 0.1 Loss: 19.3584041595459\n",
      "epoch: 1, learning_rate: 0.1 Loss: 19.263078689575195\n",
      "epoch: 2, learning_rate: 0.1 Loss: 19.180143356323242\n",
      "epoch: 3, learning_rate: 0.1 Loss: 19.103225708007812\n",
      "epoch: 4, learning_rate: 0.1 Loss: 19.02988052368164\n",
      "epoch: 5, learning_rate: 0.1 Loss: 18.96011734008789\n",
      "epoch: 6, learning_rate: 0.1 Loss: 18.892709732055664\n",
      "epoch: 7, learning_rate: 0.1 Loss: 18.827054977416992\n",
      "epoch: 8, learning_rate: 0.1 Loss: 18.76215362548828\n",
      "epoch: 9, learning_rate: 0.1 Loss: 18.695056915283203\n",
      "----------------------------------------------------------------------------------------------------\n",
      "epoch: 0, learning_rate: 0.01 Loss: 18.624652862548828\n",
      "epoch: 1, learning_rate: 0.01 Loss: 18.618444442749023\n",
      "epoch: 2, learning_rate: 0.01 Loss: 18.612239837646484\n",
      "epoch: 3, learning_rate: 0.01 Loss: 18.606040954589844\n",
      "epoch: 4, learning_rate: 0.01 Loss: 18.5998477935791\n",
      "epoch: 5, learning_rate: 0.01 Loss: 18.593660354614258\n",
      "epoch: 6, learning_rate: 0.01 Loss: 18.587480545043945\n",
      "epoch: 7, learning_rate: 0.01 Loss: 18.5813045501709\n",
      "epoch: 8, learning_rate: 0.01 Loss: 18.57513427734375\n",
      "epoch: 9, learning_rate: 0.01 Loss: 18.568967819213867\n",
      "----------------------------------------------------------------------------------------------------\n",
      "epoch: 0, learning_rate: 0.001 Loss: 18.562807083129883\n",
      "epoch: 1, learning_rate: 0.001 Loss: 18.562192916870117\n",
      "epoch: 2, learning_rate: 0.001 Loss: 18.56157684326172\n",
      "epoch: 3, learning_rate: 0.001 Loss: 18.56096076965332\n",
      "epoch: 4, learning_rate: 0.001 Loss: 18.560344696044922\n",
      "epoch: 5, learning_rate: 0.001 Loss: 18.559728622436523\n",
      "epoch: 6, learning_rate: 0.001 Loss: 18.559114456176758\n",
      "epoch: 7, learning_rate: 0.001 Loss: 18.558500289916992\n",
      "epoch: 8, learning_rate: 0.001 Loss: 18.55788230895996\n",
      "epoch: 9, learning_rate: 0.001 Loss: 18.557266235351562\n",
      "----------------------------------------------------------------------------------------------------\n",
      "epoch: 0, learning_rate: 0.0001 Loss: 18.55665397644043\n",
      "epoch: 1, learning_rate: 0.0001 Loss: 18.556591033935547\n",
      "epoch: 2, learning_rate: 0.0001 Loss: 18.556529998779297\n",
      "epoch: 3, learning_rate: 0.0001 Loss: 18.556468963623047\n",
      "epoch: 4, learning_rate: 0.0001 Loss: 18.556407928466797\n",
      "epoch: 5, learning_rate: 0.0001 Loss: 18.556346893310547\n",
      "epoch: 6, learning_rate: 0.0001 Loss: 18.556283950805664\n",
      "epoch: 7, learning_rate: 0.0001 Loss: 18.556222915649414\n",
      "epoch: 8, learning_rate: 0.0001 Loss: 18.55615997314453\n",
      "epoch: 9, learning_rate: 0.0001 Loss: 18.55609893798828\n"
     ]
    },
    {
     "data": {
      "text/plain": [
       "tensor(18.5561, grad_fn=<NllLossBackward0>)"
      ]
     },
     "execution_count": 150,
     "metadata": {},
     "output_type": "execute_result"
    }
   ],
   "source": [
    "# Let's run the training loop a few times with different learning rates to see find some bounds.\n",
    "training_loop(X_train=X_train, Y_train=Y_train, num_epochs=10, learning_rate=10, parameters=parameters)\n",
    "print(\"-\" * 100)\n",
    "training_loop(X_train=X_train, Y_train=Y_train, num_epochs=10, learning_rate=1, parameters=parameters)\n",
    "print(\"-\" * 100)\n",
    "training_loop(X_train=X_train, Y_train=Y_train, num_epochs=10, learning_rate=0.1, parameters=parameters)\n",
    "print(\"-\" * 100)\n",
    "training_loop(X_train=X_train, Y_train=Y_train, num_epochs=10, learning_rate=0.01, parameters=parameters)\n",
    "print(\"-\" * 100)\n",
    "training_loop(X_train=X_train, Y_train=Y_train, num_epochs=10, learning_rate=0.001, parameters=parameters)\n",
    "print(\"-\" * 100)\n",
    "training_loop(X_train=X_train, Y_train=Y_train, num_epochs=10, learning_rate=0.0001, parameters=parameters)"
   ]
  },
  {
   "cell_type": "markdown",
   "metadata": {},
   "source": [
    "## Learning Rate"
   ]
  },
  {
   "cell_type": "code",
   "execution_count": 151,
   "metadata": {},
   "outputs": [],
   "source": [
    "# Looking at the above sample runs, it seems learning rate of 10 is too high and the model diverges.\n",
    "# Learning rate of 1 seem to be good since the loss is decreasing but it is still high.\n",
    "# Learning rate of 0.0001 seems to be very very low since the loss is decreasing extremely slowly (Plateau).\n",
    "# Learning rate of 0.01 itself seems to be a bit low since the loss is decreasing slowly but still workable. \n",
    "# In general, we use Learning rate range test (LRRT) to find reasonable bounds for the learning rate.\n",
    "# It is also used sometimes to find an optimal learning rate to use in some cases."
   ]
  },
  {
   "cell_type": "code",
   "execution_count": 152,
   "metadata": {},
   "outputs": [
    {
     "name": "stdout",
     "output_type": "stream",
     "text": [
      "Number of learning rates to try: 10000\n",
      "First 10 learning rates: tensor([1.0000e-07, 1.0017e-07, 1.0035e-07, 1.0052e-07, 1.0069e-07, 1.0087e-07,\n",
      "        1.0104e-07, 1.0122e-07, 1.0139e-07, 1.0157e-07])\n"
     ]
    }
   ],
   "source": [
    "# The standard practice is to iterate over the learning rates in the exponentiated space. One of the reasoning to do\n",
    "# this is that if we iterate over the learning rates linearly, the learning rates are too close to each other to \n",
    "# give any meaningful results and most of the computation is wasted on learning rates that are not useful. So, we \n",
    "# iterate over the exponentiated space to get a good idea of the learning rates that are useful.\n",
    "# -7 corresponds to a learning rate of 10^-7\n",
    "# 0 corresponds to a learning rate of 10^0\n",
    "learning_rate_exponents = torch.linspace(start=-7, end=0.5, steps=10000)\n",
    "learning_rates = 10 ** learning_rate_exponents\n",
    "print(f\"Number of learning rates to try: {len(learning_rates)}\")\n",
    "print(f\"First 10 learning rates: {learning_rates[:10]}\")"
   ]
  },
  {
   "cell_type": "code",
   "execution_count": 153,
   "metadata": {},
   "outputs": [
    {
     "name": "stdout",
     "output_type": "stream",
     "text": [
      "Randomly selected indices to be included in the batch for training: tensor([296571, 390935,  84199, 193804, 314540, 408097, 135938, 422347,  43094,\n",
      "         60897, 313741,  43955,   8175, 321726,   9306, 269704, 183566,  38023,\n",
      "        321337, 113231, 310899, 184683, 395143, 402160, 230312, 330408, 374945,\n",
      "         32156, 223490, 119280, 319538,   6143])\n",
      "----------------------------------------------------------------------------------------------------\n",
      "Input data in the batch: tensor([[ 2,  1, 14],\n",
      "        [ 0,  0,  1],\n",
      "        [ 8, 14,  1],\n",
      "        [ 0,  0,  2],\n",
      "        [ 1,  1, 14],\n",
      "        [ 1, 19,  8],\n",
      "        [ 9, 11,  1],\n",
      "        [ 0, 11,  1],\n",
      "        [14,  7,  5],\n",
      "        [ 0,  0, 12],\n",
      "        [ 0,  0,  0],\n",
      "        [ 0,  0, 14],\n",
      "        [ 0, 26,  1],\n",
      "        [ 9, 11,  1],\n",
      "        [20,  8,  9],\n",
      "        [ 0, 14,  9],\n",
      "        [ 1, 11, 19],\n",
      "        [18,  1, 14],\n",
      "        [22,  1,  9],\n",
      "        [ 9, 19,  1],\n",
      "        [ 0,  0,  0],\n",
      "        [ 1, 14, 20],\n",
      "        [ 1, 18,  1],\n",
      "        [ 1,  1, 14],\n",
      "        [ 0,  0, 22],\n",
      "        [ 0,  0, 19],\n",
      "        [ 1, 25,  1],\n",
      "        [ 0, 16,  9],\n",
      "        [ 0,  0, 18],\n",
      "        [22,  1, 18],\n",
      "        [ 0,  6,  1],\n",
      "        [ 0, 14,  1]], dtype=torch.int32)\n",
      "----------------------------------------------------------------------------------------------------\n"
     ]
    }
   ],
   "source": [
    "# To find an optimal learning rate, we will run the training loop for each of the learning rates and plot the loss.\n",
    "# This will help us understand how the loss changes with respect to the learning rate and help us find the optimal.\n",
    "# Also, let's use mini-batches instead of the entire dataset to speed up the experiments. First let me show how to\n",
    "# create mini-batches and then we will run the experiments.\n",
    "batch_indices = torch.randint(low=0, high=X_train.size(0), size=(BATCH_SIZE,))\n",
    "print(f\"Randomly selected indices to be included in the batch for training: {batch_indices}\")\n",
    "print(\"-\" * 100)\n",
    "# We simply index the training data using the sampled batch indices to get the mini-batch.\n",
    "X_train_batch = X_train[batch_indices]\n",
    "print(f\"Input data in the batch: {X_train_batch}\")\n",
    "print(\"-\" * 100)"
   ]
  },
  {
   "cell_type": "code",
   "execution_count": 154,
   "metadata": {},
   "outputs": [],
   "source": [
    "# Create the model parameters for experiments.\n",
    "exp_parameters = create_model_parameters()\n",
    "# Holds the learning rates used for training. We are creating this list since matplotlib doesn't accept tensors.\n",
    "lrs = []\n",
    "# Holds the exponents of the learning rates used for training. Plotting the exponents might be easier to interpret.\n",
    "lr_exps = []\n",
    "# Holds the losses for each learning rate.\n",
    "lr_losses = []\n",
    "for idx in range(10000):\n",
    "    batch_indices = torch.randint(low=0, high=X_train.size(0), size=(BATCH_SIZE,))\n",
    "    X_train_batch = X_train[batch_indices]\n",
    "    Y_train_batch = Y_train[batch_indices]\n",
    "    loss = training_loop(X_train=X_train_batch, \n",
    "                         Y_train=Y_train_batch, \n",
    "                         num_epochs=1, \n",
    "                         learning_rate=learning_rates[idx].item(), \n",
    "                         parameters=exp_parameters, \n",
    "                         log_frequency=100)\n",
    "    lr_exps.append(learning_rate_exponents[idx].item())\n",
    "    lrs.append(learning_rates[idx].item())\n",
    "    lr_losses.append(loss.item())"
   ]
  },
  {
   "cell_type": "code",
   "execution_count": 155,
   "metadata": {},
   "outputs": [
    {
     "data": {
      "text/plain": [
       "[<matplotlib.lines.Line2D at 0x7f85caa1e5f0>]"
      ]
     },
     "execution_count": 155,
     "metadata": {},
     "output_type": "execute_result"
    },
    {
     "data": {
      "image/png": "[encoded data removed]",
      "text/plain": [
       "<Figure size 640x480 with 1 Axes>"
      ]
     },
     "metadata": {},
     "output_type": "display_data"
    }
   ],
   "source": [
    "# Plotting the loss with respect to the learning rates.\n",
    "plt.plot(lrs, lr_losses)"
   ]
  },
  {
   "cell_type": "code",
   "execution_count": 156,
   "metadata": {},
   "outputs": [
    {
     "data": {
      "text/plain": [
       "[<matplotlib.lines.Line2D at 0x7f85b236c850>]"
      ]
     },
     "execution_count": 156,
     "metadata": {},
     "output_type": "execute_result"
    },
    {
     "data": {
      "image/png": "[encoded data removed]",
      "text/plain": [
       "<Figure size 640x480 with 1 Axes>"
      ]
     },
     "metadata": {},
     "output_type": "display_data"
    }
   ],
   "source": [
    "# I don't fully understand the reasoning behind the recommendations to select the learning rate bounds using this plot.\n",
    "# \n",
    "# Nevertheless, the recommendations are as follows:\n",
    "# 1) The recommended minimum learning rate is the value where the loss decreases the fastest (minimum negative gradient).\n",
    "# 2) The recommended maximum learning rate is 10 times less than the learning rate where the loss is minimum.\n",
    "#       -- The reasoning here is that loss stopped decreasing at the minimum point and so it is probably too high. So,\n",
    "#          we take a step back and pick the learning rate that is 10 times less than the minimum point.\n",
    "# 3) If you want to use a single learning rate, you can use the learning rate where the loss is minimum.\n",
    "#       -- The reasoning here is that learning rate corresponding to the minimum loss is often considered optimal because \n",
    "#          it represents the point where training progresses efficiently without divergence.\n",
    "# \n",
    "# I understand that points 2 and 3 are a bit contradictory. Andrej recommends point 3 in his video but the two blogs \n",
    "# added above recommend point 2. For now, let's going with the recommendations of Andrej and pick the learning rate of 1.\n",
    "#\n",
    "# Plotting the loss with respect to the exponents of the learning rates.\n",
    "plt.plot(lr_exps, lr_losses)"
   ]
  },
  {
   "cell_type": "markdown",
   "metadata": {},
   "source": [
    "This below image is the expectation on how the LRRT plot looks like. The learning rate is too low initially and so <br>\n",
    "we are in a loss plateau region. Then the loss starts decreasing and the rate at which it drops increases and then <br>\n",
    "eventually moves to a region where the loss increases and kind of explodes when the learning rate is too high. <br> \n",
    "This agrees with the above plot.\n",
    "\n",
    "<img src=\"../Data/Images/LearningRateRangeTest.png\" alt=\"name_prediction_neural_network\" width=\"500\" height=\"400\">"
   ]
  },
  {
   "cell_type": "markdown",
   "metadata": {},
   "source": [
    "## Model Training"
   ]
  },
  {
   "cell_type": "code",
   "execution_count": 171,
   "metadata": {},
   "outputs": [],
   "source": [
    "def compute_validation_loss(X_valid: Tensor, Y_valid: Tensor, parameters: List[Tensor]) -> Tensor:\n",
    "    logits = forward(parameters, X_valid)\n",
    "    validation_loss = compute_loss(logits, Y_valid)\n",
    "    return validation_loss"
   ]
  },
  {
   "cell_type": "code",
   "execution_count": 181,
   "metadata": {},
   "outputs": [],
   "source": [
    "# Creating fresh model parameters for training so that the above experiments don't affect the training.\n",
    "train_params_1 = create_model_parameters()"
   ]
  },
  {
   "cell_type": "code",
   "execution_count": 182,
   "metadata": {},
   "outputs": [
    {
     "name": "stdout",
     "output_type": "stream",
     "text": [
      "X shape: torch.Size([545276, 3])\n",
      "X[:10]: tensor([[ 0,  0,  0],\n",
      "        [ 0,  0,  1],\n",
      "        [ 0,  1, 12],\n",
      "        [ 1, 12,  2],\n",
      "        [12,  2, 15],\n",
      "        [ 2, 15, 14],\n",
      "        [15, 14, 19],\n",
      "        [14, 19,  8],\n",
      "        [19,  8,  1],\n",
      "        [ 0,  0,  0]], dtype=torch.int32)\n"
     ]
    }
   ],
   "source": [
    "# Getting the total data so that we can compute the loss on the entire dataset to compare it with the models\n",
    "# built in makemore1. \n",
    "# We shouldn't be doing this normally but since we are just experimenting, it is fine. We should never ever\n",
    "# touch the test data until the very data. Otherwise, our model will overfit to the test data since our \n",
    "# training decisions are based on the test data.\n",
    "X = torch.concatenate((X_train, X_valid, X_test), dim=0)\n",
    "print(f\"X shape: {X.shape}\")\n",
    "print(f\"X[:10]: {X[:10]}\")\n",
    "Y = torch.concatenate((Y_train, Y_valid, Y_test), dim=0)"
   ]
  },
  {
   "cell_type": "code",
   "execution_count": 188,
   "metadata": {},
   "outputs": [
    {
     "name": "stdout",
     "output_type": "stream",
     "text": [
      "Train Loss after iteration 1: 1.5850889682769775\n",
      "Validation Loss after iteration 1: 2.1101198196411133\n",
      "----------------------------------------------------------------------------------------------------\n",
      "Train Loss after iteration 5001: 1.4878473281860352\n",
      "Validation Loss after iteration 5001: 2.1106278896331787\n",
      "----------------------------------------------------------------------------------------------------\n",
      "Train Loss after iteration 10001: 2.2000207901000977\n",
      "Validation Loss after iteration 10001: 2.110602855682373\n",
      "----------------------------------------------------------------------------------------------------\n",
      "Train Loss after iteration 15001: 1.8397419452667236\n",
      "Validation Loss after iteration 15001: 2.1098830699920654\n",
      "----------------------------------------------------------------------------------------------------\n",
      "Train Loss after iteration 20001: 1.9838229417800903\n",
      "Validation Loss after iteration 20001: 2.1091370582580566\n",
      "----------------------------------------------------------------------------------------------------\n",
      "Train Loss after iteration 25001: 2.446681499481201\n",
      "Validation Loss after iteration 25001: 2.108863353729248\n",
      "----------------------------------------------------------------------------------------------------\n",
      "Train Loss after iteration 30001: 2.3744523525238037\n",
      "Validation Loss after iteration 30001: 2.107619524002075\n",
      "----------------------------------------------------------------------------------------------------\n",
      "Train Loss after iteration 35001: 1.9535868167877197\n",
      "Validation Loss after iteration 35001: 2.1087114810943604\n",
      "----------------------------------------------------------------------------------------------------\n",
      "Train Loss after iteration 40001: 2.0585622787475586\n",
      "Validation Loss after iteration 40001: 2.109110116958618\n",
      "----------------------------------------------------------------------------------------------------\n",
      "Train Loss after iteration 45001: 2.0326907634735107\n",
      "Validation Loss after iteration 45001: 2.1073129177093506\n",
      "----------------------------------------------------------------------------------------------------\n",
      "Train Loss at end of training: 1.828352689743042\n",
      "Validation Loss at end of training: 2.1073129177093506\n",
      "----------------------------------------------------------------------------------------------------\n",
      "Loss on the entire dataset: 2.101285219192505\n"
     ]
    }
   ],
   "source": [
    "train_loss = None\n",
    "validation_loss = None\n",
    "# Let's train the model here.\n",
    "for i in range(50000):\n",
    "    batch_indices = torch.randint(low=0, high=X_train.size(0), size=(BATCH_SIZE,))\n",
    "    X_train_batch = X_train[batch_indices]\n",
    "    Y_train_batch = Y_train[batch_indices]\n",
    "    train_loss = training_loop(X_train=X_train_batch, Y_train=Y_train_batch, num_epochs=1, learning_rate=0.01, parameters=train_params_1, log_frequency=1000)\n",
    "    if i % 5000 == 0:\n",
    "        print(f\"Train Loss after iteration {i + 1}: {train_loss.item()}\")\n",
    "        validation_loss = compute_validation_loss(X_valid, Y_valid, train_params_1)\n",
    "        print(f\"Validation Loss after iteration {i + 1}: {validation_loss.item()}\")\n",
    "        print(\"-\" * 100)\n",
    "\n",
    "# Let's print the final train and validation losses. \n",
    "print(f\"Train Loss at end of training: {train_loss.item()}\")\n",
    "print(f\"Validation Loss at end of training: {validation_loss.item()}\")\n",
    "print(\"-\" * 100)\n",
    "# Let's also calculate the loss on the entire dataset to compare it with the models built in makemore1.\n",
    "total_loss = compute_validation_loss(X, Y, train_params_1)\n",
    "print(f\"Loss on the entire dataset: {total_loss.item()}\")"
   ]
  },
  {
   "cell_type": "code",
   "execution_count": null,
   "metadata": {},
   "outputs": [],
   "source": [
    "# The best loss I could get was `2.10` with the model trained for 50000 iterations. This is lesser than what I got\n",
    "# with the model built in makemore1. I trained the model for\n",
    "# 1) 50000 iterations with a learning rate of 1\n",
    "# 2) 50000 iterations with a learning rate of 0.1\n",
    "# 3) 50000 iterations with a learning rate of 0.01"
   ]
  },
  {
   "cell_type": "code",
   "execution_count": null,
   "metadata": {},
   "outputs": [
    {
     "data": {
      "image/png": "[encoded data removed]",
      "text/plain": [
       "<Figure size 800x800 with 1 Axes>"
      ]
     },
     "metadata": {},
     "output_type": "display_data"
    }
   ],
   "source": [
    "# Now, let's plot the embeddings of the characters to see if we can find any patterns in the embeddings.\n",
    "# Andrej found an interesting pattern where the vowels were clustered together. Let's see if we can find anything \n",
    "# interesting.\n",
    "# Of course, we can't expect the same results but it seems like all the vowels are clustered together at the bottom\n",
    "# of the plot.\n",
    "\n",
    "index_to_char = get_index_to_char_mapping()\n",
    "# Retrieve the trained embeddings.\n",
    "C_trained = train_params_1['C']\n",
    "\n",
    "# Set the figure size.\n",
    "plt.figure(figsize=(8,8))\n",
    "# Scatter plot of the embeddings.\n",
    "plt.scatter(C_trained[:,0].data, C_trained[:,1].data, s=200)\n",
    "# Add the character labels to the plot.\n",
    "for i in range(C_trained.shape[0]):\n",
    "    plt.text(C_trained[i,0].item(), C_trained[i,1].item(), index_to_char[i], ha=\"center\", va=\"center\", color='white')\n",
    "plt.grid('minor')\n",
    "plt.title(\"2D Embeddings of Characters\")\n",
    "plt.show()"
   ]
  },
  {
   "cell_type": "markdown",
   "metadata": {},
   "source": [
    "## Hyperparameter Tuning"
   ]
  },
  {
   "cell_type": "code",
   "execution_count": 195,
   "metadata": {},
   "outputs": [],
   "source": [
    "# Maybe the model could be improved by tuning certain parameters in our model. We have the following options:\n",
    "# 1) Increase the number of hidden neurons.\n",
    "# 2) Increase the size of the embeddings.\n",
    "# 3) Increase the number of characters used as input to the model.\n",
    "#\n",
    "# Let's focus on 1 and 2 for now. We will increase the number of hidden neurons to 200 and the size of the \n",
    "# embeddings to 10 as Andrej did in his video. We will keep the number of characters used as input to the model \n",
    "# as 3."
   ]
  },
  {
   "cell_type": "code",
   "execution_count": 198,
   "metadata": {},
   "outputs": [],
   "source": [
    "# Create the model parameters with the updated architecture.\n",
    "train_params_2 = create_model_parameters(num_hidden_neurons=200, embedding_size=10)"
   ]
  },
  {
   "cell_type": "code",
   "execution_count": 199,
   "metadata": {},
   "outputs": [
    {
     "ename": "RuntimeError",
     "evalue": "mat1 and mat2 shapes cannot be multiplied (160x6 and 30x200)",
     "output_type": "error",
     "traceback": [
      "\u001b[0;31m---------------------------------------------------------------------------\u001b[0m",
      "\u001b[0;31mRuntimeError\u001b[0m                              Traceback (most recent call last)",
      "Cell \u001b[0;32mIn[199], line 9\u001b[0m\n\u001b[1;32m      7\u001b[0m X_train_batch \u001b[38;5;241m=\u001b[39m X_train[batch_indices]\n\u001b[1;32m      8\u001b[0m Y_train_batch \u001b[38;5;241m=\u001b[39m Y_train[batch_indices]\n\u001b[0;32m----> 9\u001b[0m train_loss \u001b[38;5;241m=\u001b[39m \u001b[43mtraining_loop\u001b[49m\u001b[43m(\u001b[49m\u001b[43mX_train\u001b[49m\u001b[38;5;241;43m=\u001b[39;49m\u001b[43mX_train_batch\u001b[49m\u001b[43m,\u001b[49m\u001b[43m \u001b[49m\u001b[43mY_train\u001b[49m\u001b[38;5;241;43m=\u001b[39;49m\u001b[43mY_train_batch\u001b[49m\u001b[43m,\u001b[49m\u001b[43m \u001b[49m\u001b[43mnum_epochs\u001b[49m\u001b[38;5;241;43m=\u001b[39;49m\u001b[38;5;241;43m1\u001b[39;49m\u001b[43m,\u001b[49m\u001b[43m \u001b[49m\u001b[43mlearning_rate\u001b[49m\u001b[38;5;241;43m=\u001b[39;49m\u001b[38;5;241;43m1\u001b[39;49m\u001b[43m,\u001b[49m\u001b[43m \u001b[49m\u001b[43mparameters\u001b[49m\u001b[38;5;241;43m=\u001b[39;49m\u001b[43mtrain_params_2\u001b[49m\u001b[43m,\u001b[49m\u001b[43m \u001b[49m\u001b[43mlog_frequency\u001b[49m\u001b[38;5;241;43m=\u001b[39;49m\u001b[38;5;241;43m1000\u001b[39;49m\u001b[43m)\u001b[49m\n\u001b[1;32m     10\u001b[0m \u001b[38;5;28;01mif\u001b[39;00m i \u001b[38;5;241m%\u001b[39m \u001b[38;5;241m5000\u001b[39m \u001b[38;5;241m==\u001b[39m \u001b[38;5;241m0\u001b[39m:\n\u001b[1;32m     11\u001b[0m     \u001b[38;5;28mprint\u001b[39m(\u001b[38;5;124mf\u001b[39m\u001b[38;5;124m\"\u001b[39m\u001b[38;5;124mTrain Loss after iteration \u001b[39m\u001b[38;5;132;01m{\u001b[39;00mi\u001b[38;5;250m \u001b[39m\u001b[38;5;241m+\u001b[39m\u001b[38;5;250m \u001b[39m\u001b[38;5;241m1\u001b[39m\u001b[38;5;132;01m}\u001b[39;00m\u001b[38;5;124m: \u001b[39m\u001b[38;5;132;01m{\u001b[39;00mtrain_loss\u001b[38;5;241m.\u001b[39mitem()\u001b[38;5;132;01m}\u001b[39;00m\u001b[38;5;124m\"\u001b[39m)\n",
      "Cell \u001b[0;32mIn[149], line 20\u001b[0m, in \u001b[0;36mtraining_loop\u001b[0;34m(X_train, Y_train, num_epochs, learning_rate, parameters, log_frequency)\u001b[0m\n\u001b[1;32m     17\u001b[0m loss \u001b[38;5;241m=\u001b[39m \u001b[38;5;28;01mNone\u001b[39;00m\n\u001b[1;32m     18\u001b[0m \u001b[38;5;28;01mfor\u001b[39;00m epoch \u001b[38;5;129;01min\u001b[39;00m \u001b[38;5;28mrange\u001b[39m(num_epochs):\n\u001b[1;32m     19\u001b[0m     \u001b[38;5;66;03m# Forward pass\u001b[39;00m\n\u001b[0;32m---> 20\u001b[0m     logits \u001b[38;5;241m=\u001b[39m \u001b[43mforward\u001b[49m\u001b[43m(\u001b[49m\u001b[43mparameters\u001b[49m\u001b[43m,\u001b[49m\u001b[43m \u001b[49m\u001b[43mX_train\u001b[49m\u001b[43m)\u001b[49m\n\u001b[1;32m     21\u001b[0m     loss \u001b[38;5;241m=\u001b[39m compute_loss(logits, Y_train)\n\u001b[1;32m     22\u001b[0m     \u001b[38;5;66;03m# Backward pass\u001b[39;00m\n",
      "Cell \u001b[0;32mIn[197], line 22\u001b[0m, in \u001b[0;36mforward\u001b[0;34m(parameters, X)\u001b[0m\n\u001b[1;32m     20\u001b[0m \u001b[38;5;66;03m# -1 corresponds to the unknown batch size.\u001b[39;00m\n\u001b[1;32m     21\u001b[0m X_inp \u001b[38;5;241m=\u001b[39m X_inp\u001b[38;5;241m.\u001b[39mview(\u001b[38;5;241m-\u001b[39m\u001b[38;5;241m1\u001b[39m, BLOCK_SIZE \u001b[38;5;241m*\u001b[39m EMBEDDING_SIZE)\n\u001b[0;32m---> 22\u001b[0m hidden_outputs \u001b[38;5;241m=\u001b[39m torch\u001b[38;5;241m.\u001b[39mtanh(\u001b[43mX_inp\u001b[49m\u001b[43m \u001b[49m\u001b[38;5;241;43m@\u001b[39;49m\u001b[43m \u001b[49m\u001b[43mparameters\u001b[49m\u001b[43m[\u001b[49m\u001b[38;5;124;43m'\u001b[39;49m\u001b[38;5;124;43mW1\u001b[39;49m\u001b[38;5;124;43m'\u001b[39;49m\u001b[43m]\u001b[49m \u001b[38;5;241m+\u001b[39m parameters[\u001b[38;5;124m'\u001b[39m\u001b[38;5;124mb1\u001b[39m\u001b[38;5;124m'\u001b[39m])\n\u001b[1;32m     23\u001b[0m logits \u001b[38;5;241m=\u001b[39m hidden_outputs \u001b[38;5;241m@\u001b[39m parameters[\u001b[38;5;124m'\u001b[39m\u001b[38;5;124mW2\u001b[39m\u001b[38;5;124m'\u001b[39m] \u001b[38;5;241m+\u001b[39m parameters[\u001b[38;5;124m'\u001b[39m\u001b[38;5;124mb2\u001b[39m\u001b[38;5;124m'\u001b[39m]\n\u001b[1;32m     24\u001b[0m \u001b[38;5;28;01mreturn\u001b[39;00m logits\n",
      "\u001b[0;31mRuntimeError\u001b[0m: mat1 and mat2 shapes cannot be multiplied (160x6 and 30x200)"
     ]
    }
   ],
   "source": [
    "# Let's run the same training loop as above with the new parameters.\n",
    "train_loss = None\n",
    "validation_loss = None\n",
    "# Let's train the model here.\n",
    "for i in range(50000):\n",
    "    batch_indices = torch.randint(low=0, high=X_train.size(0), size=(BATCH_SIZE,))\n",
    "    X_train_batch = X_train[batch_indices]\n",
    "    Y_train_batch = Y_train[batch_indices]\n",
    "    train_loss = training_loop(X_train=X_train_batch, Y_train=Y_train_batch, num_epochs=1, learning_rate=1, parameters=train_params_2, log_frequency=1000)\n",
    "    if i % 5000 == 0:\n",
    "        print(f\"Train Loss after iteration {i + 1}: {train_loss.item()}\")\n",
    "        validation_loss = compute_validation_loss(X_valid, Y_valid, train_params_2)\n",
    "        print(f\"Validation Loss after iteration {i + 1}: {validation_loss.item()}\")\n",
    "        print(\"-\" * 100)\n",
    "\n",
    "# Let's print the final train and validation losses. \n",
    "print(f\"Train Loss at end of training: {train_loss.item()}\")\n",
    "print(f\"Validation Loss at end of training: {validation_loss.item()}\")\n",
    "print(\"-\" * 100)\n",
    "# Let's also calculate the loss on the entire dataset to compare it with the models built in makemore1.\n",
    "total_loss = compute_validation_loss(X, Y, train_params_2)\n",
    "print(f\"Loss on the entire dataset: {total_loss.item()}\")"
   ]
  },
  {
   "cell_type": "code",
   "execution_count": null,
   "metadata": {},
   "outputs": [],
   "source": []
  }
 ],
 "metadata": {
  "kernelspec": {
   "display_name": ".makemore_venv",
   "language": "python",
   "name": "python3"
  },
  "language_info": {
   "codemirror_mode": {
    "name": "ipython",
    "version": 3
   },
   "file_extension": ".py",
   "mimetype": "text/x-python",
   "name": "python",
   "nbconvert_exporter": "python",
   "pygments_lexer": "ipython3",
   "version": "3.10.12"
  }
 },
 "nbformat": 4,
 "nbformat_minor": 2
}
