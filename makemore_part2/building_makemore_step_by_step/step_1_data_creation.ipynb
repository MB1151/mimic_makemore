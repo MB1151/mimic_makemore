{
 "cells": [
  {
   "cell_type": "code",
   "execution_count": null,
   "metadata": {},
   "outputs": [],
   "source": [
    "# In this notebook, you learn:\n",
    "#\n",
    "# 1) How to create training, validation and test data in the format required for the neural network model?\n",
    "#\n",
    "# Resources:\n",
    "# 1) https://youtu.be/TCH_1BHY58I?si=m65oyEMLQ5OXBjjA\n",
    "#       -- Andrej Karpathy's video on makemore which is used to build the model.\n",
    "# 2) https://www.jmlr.org/papers/volume3/bengio03a/bengio03a.pdf\n",
    "#       -- Bengio et al. (2003) paper on A Neural Probabilistic Language Model\n",
    "#       -- This paper is the basis for the model we are building. Watch the video first and then read the paper.\n",
    "#\n",
    "#\n",
    "# The data used in part 2 is the same as part 1. The data is a list of Indian names. The data is available in the file\n",
    "# `makemore_part1/Data/names.text`. Please go through `makemore_part1/buildding_makemore_step_by_step/step_1_data_exploration.ipynb` \n",
    "# to have a better idea of the data."
   ]
  },
  {
   "cell_type": "markdown",
   "metadata": {},
   "source": [
    "<img src=\"../Data/Images/makemore_2_model.png\" alt=\"name_prediction_neural_network\" width=\"500\" height=\"400\">"
   ]
  },
  {
   "cell_type": "code",
   "execution_count": 3,
   "metadata": {},
   "outputs": [],
   "source": [
    "# The above image shows the model we are going to build. Some of the key points to note are:\n",
    "#\n",
    "# 1) We won't be considering the skip connections from input layer to the output layer.\n",
    "# 2) We will be using character embeddings as input instead of word embeddings.\n",
    "# 3) The input-output pairs are created from the names in the dataset.\n",
    "#\n",
    "# Let me briefly explain the model:\n",
    "# The model takes in a sequence of characters as input and predicts the next character in the sequence. We will train the \n",
    "# model using the names in the dataset and later use the model to generate new names.\n",
    "# \n",
    "# Model Architecture:\n",
    "# The model consists of 3 layers:\n",
    "# 1) Input Layer: The input layer is just the embeddings of the last `n` characters in the name.\n",
    "# 2) Hidden Layer: This layer is a feedforward neural network connected to the input layer. The hidden layer has `h` units.\n",
    "#                  This layer uses a `tanh` activation function.\n",
    "# 3) Output Layer: The output of the hidden layer is connected to the output layer. The output layer has `d` units. The \n",
    "#                  output layer uses a `softmax` activation function.\n",
    "#\n",
    "# Input-Output representation:\n",
    "#\n",
    "# Input:\n",
    "# As described above, we will use characters as input and predict the next character as output. \n",
    "# Out data contains 27 characters (26 alphabets + 1 BOUND_CHARACTER). We will use a `d` dimensional embedding to represent\n",
    "# each character. The embeddings are learned during training along with the weights of the model.  \n",
    "# The input to the model is the last `n` characters in a name and the target is the next character in the name. The \n",
    "# embeddings of the last `n` characters are concatenated and passed through a feedforward neural network. So, we don't \n",
    "# really use the order of the characters in the name to train this model.\n",
    "#\n",
    "# Output:\n",
    "# Each neuron in the output layer represents a character. The output of the model is a probability distribution over the\n",
    "# characters."
   ]
  },
  {
   "cell_type": "code",
   "execution_count": 4,
   "metadata": {},
   "outputs": [],
   "source": [
    "import string\n",
    "import torch"
   ]
  },
  {
   "cell_type": "code",
   "execution_count": null,
   "metadata": {},
   "outputs": [],
   "source": [
    "# Path to the dataset used to train the model.\n",
    "CLEANED_DATASET_PATH = '../../makemore_part1/Data/names.txt'\n",
    "# Represents the end character  of a name.\n",
    "BOUND_CHARACTER = '.'\n",
    "# Number of characters used as input to the model.\n",
    "BLOCK_SIZE = 3"
   ]
  },
  {
   "cell_type": "code",
   "execution_count": 6,
   "metadata": {},
   "outputs": [
    {
     "data": {
      "text/plain": [
       "['albonsha',\n",
       " 'beenapreethi',\n",
       " 'thushniha',\n",
       " 'aakaksha',\n",
       " 'dumeethran',\n",
       " 'luhit',\n",
       " 'valam',\n",
       " 'harinyai',\n",
       " 'sakthikaa',\n",
       " 'kaveetha']"
      ]
     },
     "execution_count": 6,
     "metadata": {},
     "output_type": "execute_result"
    }
   ],
   "source": [
    "with open(CLEANED_DATASET_PATH, 'r') as f:\n",
    "    names = [name.strip() for name in f.readlines()]\n",
    "\n",
    "names[:10]"
   ]
  },
  {
   "cell_type": "code",
   "execution_count": null,
   "metadata": {},
   "outputs": [
    {
     "name": "stdout",
     "output_type": "stream",
     "text": [
      "{'a': 1, 'b': 2, 'c': 3, 'd': 4, 'e': 5, 'f': 6, 'g': 7, 'h': 8, 'i': 9, 'j': 10, 'k': 11, 'l': 12, 'm': 13, 'n': 14, 'o': 15, 'p': 16, 'q': 17, 'r': 18, 's': 19, 't': 20, 'u': 21, 'v': 22, 'w': 23, 'x': 24, 'y': 25, 'z': 26, '.': 0}\n",
      "----------------------------------------------------------------------------------------------------\n",
      "{1: 'a', 2: 'b', 3: 'c', 4: 'd', 5: 'e', 6: 'f', 7: 'g', 8: 'h', 9: 'i', 10: 'j', 11: 'k', 12: 'l', 13: 'm', 14: 'n', 15: 'o', 16: 'p', 17: 'q', 18: 'r', 19: 's', 20: 't', 21: 'u', 22: 'v', 23: 'w', 24: 'x', 25: 'y', 26: 'z', 0: '.'}\n"
     ]
    }
   ],
   "source": [
    "# This was already explained in makemore_part1 in detail.\n",
    "#\n",
    "# Create a mapping from characters to indices. \n",
    "char_to_idx = {char: idx + 1 for idx, char in enumerate(string.ascii_lowercase)}\n",
    "char_to_idx[BOUND_CHARACTER] = 0\n",
    "print(char_to_idx)\n",
    "print(\"-\" * 100)"
   ]
  },
  {
   "cell_type": "code",
   "execution_count": 29,
   "metadata": {},
   "outputs": [],
   "source": [
    "# Let's create input-output pairs from the names.\n",
    "#  \n",
    "# Holds the input pairs. List of lists -- Each inner list contains the last `BLOCK_SIZE` number of characters in a name.\n",
    "inputs = []\n",
    "# Holds the targets to be predicted -- Represents the next character after the block in a name.\n",
    "targets = []\n",
    "\n",
    "# This is based on a rolling window method. We start with window of BLOCK_SIZE characters and then remove the first\n",
    "# character and append the current character to create a new window.\n",
    "for name in names:\n",
    "    # If name is 'virat', then bounded_name is 'virat.'\n",
    "    bounded_name = name + BOUND_CHARACTER\n",
    "    # This is the block containing the last 3 characters. At the start it is '...'\n",
    "    current_block = [0] * BLOCK_SIZE\n",
    "    for current_char in bounded_name:\n",
    "        target_char_idx = char_to_idx[current_char]\n",
    "        # Add current block to the inputs.\n",
    "        inputs.append(current_block)\n",
    "        targets.append(target_char_idx)\n",
    "        # Removed the first character from the block.\n",
    "        current_block = current_block[1:]\n",
    "        # Append the current character to create a block for the next input-target pair.\n",
    "        current_block.append(target_char_idx)"
   ]
  },
  {
   "cell_type": "code",
   "execution_count": null,
   "metadata": {},
   "outputs": [
    {
     "name": "stdout",
     "output_type": "stream",
     "text": [
      "First 10 names in the dataset: ['albonsha', 'beenapreethi', 'thushniha', 'aakaksha', 'dumeethran', 'luhit', 'valam', 'harinyai', 'sakthikaa', 'kaveetha']\n",
      "----------------------------------------------------------------------------------------------------\n",
      "First 10 inputs created from the names: [[0, 0, 0], [0, 0, 1], [0, 1, 12], [1, 12, 2], [12, 2, 15], [2, 15, 14], [15, 14, 19], [14, 19, 8], [19, 8, 1], [0, 0, 0]]\n",
      "----------------------------------------------------------------------------------------------------\n",
      "First 10 targets created for the corresponding inputs: [1, 12, 2, 15, 14, 19, 8, 1, 0, 2]\n"
     ]
    }
   ],
   "source": [
    "# Let's try to understand the output here.\n",
    "# The first name is 'albonsha'. The input-target pairs created out of this name should be:\n",
    "#\n",
    "# ... : a  --  [0,0,0]    : 1\n",
    "# ..a : l  --  [0,0,1]    : 12\n",
    "# .al : b  --  [0,1,12]   : 2\n",
    "# alb : o  --  [1,12,2]   : 15\n",
    "# lbo : n  --  [12,2,15]  : 14\n",
    "# bon : s  --  [2,15,14]  : 19\n",
    "# ons : h  --  [15,14,19] : 8\n",
    "# nsh : a  --  [14,19,8]  : 1\n",
    "# sha : .  --  [19,8,1]   : 0\n",
    "#\n",
    "# The above is exactly what you see in the inputs and targets output below.\n",
    "print(f\"First 10 names in the dataset: {names[:10]}\")\n",
    "print(\"-\" * 100)\n",
    "print(f\"First 10 inputs created from the names: {inputs[:10]}\")\n",
    "print(\"-\" * 100)\n",
    "print(f\"First 10 targets created for the corresponding inputs: {targets[:10]}\")"
   ]
  },
  {
   "cell_type": "code",
   "execution_count": 32,
   "metadata": {},
   "outputs": [
    {
     "name": "stdout",
     "output_type": "stream",
     "text": [
      "Number of inputs: 545276\n",
      "Number of targets: 545276\n"
     ]
    }
   ],
   "source": [
    "# Both the inputs and targets should be of equal length.\n",
    "print(f\"Number of inputs: {len(inputs)}\")\n",
    "print(f\"Number of targets: {len(targets)}\")"
   ]
  },
  {
   "cell_type": "code",
   "execution_count": null,
   "metadata": {},
   "outputs": [],
   "source": [
    "# We need to convert the inputs and targets to tensors which is what Pytorch primarily deals with.\n",
    "input_tensors = torch.tensor(data=inputs, dtype=torch.float32)\n",
    "target_tensors = torch.tensor(data=targets, dtype=torch.float32)"
   ]
  },
  {
   "cell_type": "code",
   "execution_count": null,
   "metadata": {},
   "outputs": [
    {
     "data": {
      "text/plain": [
       "tensor([[ 0.,  0.,  0.],\n",
       "        [ 0.,  0.,  1.],\n",
       "        [ 0.,  1., 12.],\n",
       "        [ 1., 12.,  2.],\n",
       "        [12.,  2., 15.],\n",
       "        [ 2., 15., 14.],\n",
       "        [15., 14., 19.],\n",
       "        [14., 19.,  8.],\n",
       "        [19.,  8.,  1.],\n",
       "        [ 0.,  0.,  0.]])"
      ]
     },
     "execution_count": 34,
     "metadata": {},
     "output_type": "execute_result"
    }
   ],
   "source": [
    "input_tensors[:10]"
   ]
  },
  {
   "cell_type": "code",
   "execution_count": null,
   "metadata": {},
   "outputs": [
    {
     "data": {
      "text/plain": [
       "tensor([ 1., 12.,  2., 15., 14., 19.,  8.,  1.,  0.,  2.])"
      ]
     },
     "execution_count": 35,
     "metadata": {},
     "output_type": "execute_result"
    }
   ],
   "source": [
    "target_tensors[:10]"
   ]
  },
  {
   "cell_type": "markdown",
   "metadata": {},
   "source": [
    "## Train, Validation, and Test Datasets"
   ]
  },
  {
   "cell_type": "code",
   "execution_count": 36,
   "metadata": {},
   "outputs": [],
   "source": [
    "# The usual standard is that we split the data into train dataset, validation dataset, and test dataset.\n",
    "# The usual split is:\n",
    "# Train dataset      : 80% of the total data\n",
    "# Validation dataset : 10% of the total data\n",
    "# Test dataset       : 10% of the total data\n",
    "# \n",
    "# Train dataset is used to train the model.\n",
    "# Validation dataset is used to validate the trained model and identify the best performing hyper parameters.\n",
    "# Test dataset is used to calculate the performance of the model -- This should be used once and only once. "
   ]
  },
  {
   "cell_type": "code",
   "execution_count": null,
   "metadata": {},
   "outputs": [
    {
     "data": {
      "text/plain": [
       "545276"
      ]
     },
     "execution_count": 40,
     "metadata": {},
     "output_type": "execute_result"
    }
   ],
   "source": [
    "total_data_size = len(inputs)\n",
    "total_data_size"
   ]
  },
  {
   "cell_type": "code",
   "execution_count": 44,
   "metadata": {},
   "outputs": [
    {
     "name": "stdout",
     "output_type": "stream",
     "text": [
      "Number of examples in the train dataset: 436220\n",
      "----------------------------------------------------------------------------------------------------\n",
      "Number of examples in the validation dataset: 54527\n",
      "----------------------------------------------------------------------------------------------------\n",
      "Number of examples in the test dataset: 54529\n"
     ]
    }
   ],
   "source": [
    "train_size = int(0.8 * total_data_size)\n",
    "print(f\"Number of examples in the train dataset: {train_size}\")\n",
    "print(\"-\" * 100)\n",
    "validation_size = int(0.1 * total_data_size)\n",
    "print(f\"Number of examples in the validation dataset: {validation_size}\")\n",
    "print(\"-\" * 100)\n",
    "test_size = total_data_size - train_size - validation_size\n",
    "print(f\"Number of examples in the test dataset: {test_size}\")"
   ]
  },
  {
   "cell_type": "code",
   "execution_count": 46,
   "metadata": {},
   "outputs": [],
   "source": [
    "train_end = train_size\n",
    "validation_end = train_size + validation_size"
   ]
  },
  {
   "cell_type": "code",
   "execution_count": 48,
   "metadata": {},
   "outputs": [],
   "source": [
    "# It is easier to create the split before creating the tensors. \n",
    "X_train, Y_train = inputs[:train_end], targets[:train_end]\n",
    "X_valid, Y_valid = inputs[train_end:validation_end], targets[train_end:validation_end]\n",
    "X_test, Y_test = inputs[validation_end:], targets[validation_end]"
   ]
  },
  {
   "cell_type": "code",
   "execution_count": 50,
   "metadata": {},
   "outputs": [
    {
     "name": "stdout",
     "output_type": "stream",
     "text": [
      "Train set size: 436220\n",
      "Validation set size: 54527\n",
      "Test set size: 54529\n"
     ]
    }
   ],
   "source": [
    "print(f\"Train set size: {X_train.shape[0]}\")\n",
    "print(f\"Validation set size: {X_valid.shape[0]}\")\n",
    "print(f\"Test set size: {X_test.shape[0]}\")"
   ]
  },
  {
   "cell_type": "code",
   "execution_count": 51,
   "metadata": {},
   "outputs": [
    {
     "data": {
      "text/plain": [
       "(tensor([[ 0.,  0.,  0.],\n",
       "         [ 0.,  0.,  1.],\n",
       "         [ 0.,  1., 12.],\n",
       "         [ 1., 12.,  2.],\n",
       "         [12.,  2., 15.],\n",
       "         [ 2., 15., 14.],\n",
       "         [15., 14., 19.],\n",
       "         [14., 19.,  8.],\n",
       "         [19.,  8.,  1.],\n",
       "         [ 0.,  0.,  0.]]),\n",
       " tensor([ 1., 12.,  2., 15., 14., 19.,  8.,  1.,  0.,  2.]))"
      ]
     },
     "execution_count": 51,
     "metadata": {},
     "output_type": "execute_result"
    }
   ],
   "source": [
    "X_train[:10], Y_train[:10]"
   ]
  },
  {
   "cell_type": "code",
   "execution_count": null,
   "metadata": {},
   "outputs": [],
   "source": []
  }
 ],
 "metadata": {
  "kernelspec": {
   "display_name": ".makemore_venv",
   "language": "python",
   "name": "python3"
  },
  "language_info": {
   "codemirror_mode": {
    "name": "ipython",
    "version": 3
   },
   "file_extension": ".py",
   "mimetype": "text/x-python",
   "name": "python",
   "nbconvert_exporter": "python",
   "pygments_lexer": "ipython3",
   "version": "3.10.12"
  }
 },
 "nbformat": 4,
 "nbformat_minor": 2
}
